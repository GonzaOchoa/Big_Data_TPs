{
 "cells": [
  {
   "cell_type": "markdown",
   "metadata": {
    "collapsed": true,
    "id": "Dh8MkXaG-c9Y"
   },
   "source": [
    "# Curso de Big Data\n",
    "\n",
    "## Trabajo Práctico 3\n",
    "\n",
    "### Samuel Arispe, Gonzalo Ochoa y Facundo Valle Quintana"
   ]
  },
  {
   "cell_type": "markdown",
   "metadata": {
    "id": "RhBlm6mZ-c9e"
   },
   "source": [
    "### Reglas de formato y presentación\n",
    "- El trabajo debe estar bien comentado (utilizando #) para que el código sea fácil de entender por sus compañeros y profesores.\n",
    "\n",
    "- El mismo debe ser completado en este Jupyter Notebook y entregado como tal, es decir en un archivo .ipynb\n"
   ]
  },
  {
   "cell_type": "markdown",
   "metadata": {
    "id": "ZEjGaa4U-c9g"
   },
   "source": [
    "### Fecha de entrega:\n",
    "Domingo 5 de noviembre a las 23:59hs\n",
    "\n",
    "### Contenidos:\n",
    "\n",
    "\n",
    "Analizar el problema del no reporte de ingresos en las encuestas de hogares y cómo eso afecta la medición de la tasa de pobreza. Se profundizará en el análisis de esta temática con los nuevos métodos vistos en clase para identificar individuos sin reporte de ingresos."
   ]
  },
  {
   "cell_type": "markdown",
   "metadata": {
    "id": "N9TU2y7E-c9h"
   },
   "source": [
    "### Modalidad de entrega\n",
    "- Al finalizar el trabajo práctico deben hacer un último <i>commit</i> en su repositorio de GitHub con el mensaje “Entrega final del tp”.\n",
    "\n",
    "- Asegurense de haber creado una carpeta llamada TP3. Deben entregar el código (jupyter notebook).\n",
    "\n",
    "- También deben completar el link de su repositorio -para que pueda ser clonado y corregido- en la siguiente <a href=\"https://docs.google.com/spreadsheets/d/1v8Sv2TSzpK6mxjm3mmdnhmkk0qiyGFNj/edit#gid=1820558252\">google sheet</a>\n",
    "\n",
    "- La última versión en el repositorio es la que será evaluada. Por lo que es importante que:\n",
    "    - No completen la google sheet hasta no haber terminado y estar seguros de que han hecho el <i>commit y push</i> a la versión final que quieren entregar. Debido a que se pueden tomar hasta 3 días de extensión a lo largo del curso, no se  corregirán sus tareas hasta no ver el link en la google sheet.\\\n",
    "    \n",
    "    - No hagan nuevos <i>push</i> despues de haber entregado su versión final. Esto generaría confusión acerca de que versión es la que quieren que se les corrija."
   ]
  },
  {
   "cell_type": "markdown",
   "metadata": {
    "id": "ZXbrPraa-c9i"
   },
   "source": [
    "### Reglas de formato y presentación\n",
    "\n",
    "- El trabajo se debe entregar como Jupyter Notebook. Se espera una buena redacción en la resolución del práctico.\n",
    "\n",
    "- Identifiquen claramente a qué inciso corresponde cada comando y, cuando sea necesario, usen bloques de texto para detallar sus respuestas.\n",
    "\n",
    "- Importante: Todos los miembros del equipo deben haber hecho al menos un <i> commit </i> durante la realización del TP para asegurar que todos hayan aportado a su resolución."
   ]
  },
  {
   "cell_type": "markdown",
   "metadata": {
    "id": "dvfylNQLwSSh"
   },
   "source": [
    "## Parte I: Análisis de la base de hogares y cálculo de pobreza\n",
    "\n",
    "Ahora que ya se han familiarizado con la Encuesta Permanente de Hogares (EPH) y\n",
    "con la tabla de adulto equivalente, vamos a complejizar un poco la construcción del índice de pobreza. Lo calcularemos a nivel de hogares, con sus respectivos factores de expansión y realizaremos una limpieza de la base con mayor dedicación.\n",
    "A continuación, complementamos el trabajo hecho en el TP2 usando la encuesta a\n",
    "nivel hogares de la EPH."
   ]
  },
  {
   "cell_type": "markdown",
   "metadata": {
    "id": "Gdu7HpY7wSSi"
   },
   "source": [
    "#### 1. Exploren el diseño de registro de la base de hogar: a priori, ¿qué variables creen que pueden ser muy predictivas de pobreza y que sería muy útil incluir para perfeccionar el ejercicio del TP2?"
   ]
  },
  {
   "cell_type": "markdown",
   "metadata": {},
   "source": [
    "Respuesta: A la hora de perfeccionar la predicción de la pobreza del TP2, consideramos que las siguientes variables pueden ser relevantes:\n",
    "\n",
    "1. <b>Identificación</b>: retendríamos todas las variables, ya que nos permiten ubicar espacial y temporalmente a la pobreza.\n",
    "<br>\n",
    "\n",
    "2. <b>Características de la vivienda</b>: retendríamos las siguientes variables: IV1, IV2, V4, IV7, IV8, IV10, IV11, IV12_3, dado que identifican considiciones habitacionales subóptimas, que son claves determinantes de la pobreza siguiendo la lógica de Amartya Sen.\n",
    "<br>\n",
    "\n",
    "3. <b>Características habitacionales</b>: retendríamos las siguientes variables: II1, II3, II8, II9, V1, V2, V4, V5, V6, V12, V19_A, V19_B, IX_ToT, ITF, DECIFR, IPCF, DECCFR. Este conjunto de variables nos permite indagar sobre las dimensiones del hogar, el funcionamiento de sus baños y la fuente de los ingresos familiares lo que nos permite identificar a las personas más vulnerables."
   ]
  },
  {
   "cell_type": "markdown",
   "metadata": {},
   "source": [
    "#### 2. Descarguen la base de microdatos de la EPH correspondiente al primer trimestre de 2023 (la base de hogares se llama usu hogar T123.xls). Importen los datos de la encuesta de hogar y, al igual que en el TP2, conserven sólo las observaciones que corresponden a los aglomerados de Ciudad Autónoma de Buenos Aires o del Gran Buenos Aires."
   ]
  },
  {
   "cell_type": "code",
   "execution_count": 1,
   "metadata": {},
   "outputs": [],
   "source": [
    "# Importamos paquetes.\n",
    "\n",
    "import os\n",
    "import pandas as pd\n",
    "import numpy as np\n",
    "import matplotlib.pyplot as plt\n",
    "import statsmodels.api as sm\n",
    "\n",
    "from sklearn import datasets\n",
    "from sklearn.linear_model import LogisticRegression\n",
    "from sklearn.model_selection import train_test_split\n",
    "from sklearn.metrics import confusion_matrix, ConfusionMatrixDisplay\n",
    "from sklearn.metrics import accuracy_score, recall_score\n",
    "from sklearn.metrics import roc_curve\n",
    "from sklearn.metrics import roc_auc_score\n",
    "from sklearn.metrics import RocCurveDisplay\n",
    "from sklearn.discriminant_analysis import LinearDiscriminantAnalysis\n",
    "from sklearn.neighbors import KNeighborsClassifier"
   ]
  },
  {
   "cell_type": "code",
   "execution_count": 2,
   "metadata": {},
   "outputs": [],
   "source": [
    "# Repetimos lo del ejercicio 2:\n",
    "\n",
    "data = pd.read_excel(\"usu_hogar_T123.xlsx\")\n",
    "data_gba = data[data['AGLOMERADO'].isin([32, 33])]\n"
   ]
  },
  {
   "cell_type": "markdown",
   "metadata": {},
   "source": [
    "#### 3. Unan la tabla de la encuesta individual con la de la encuesta de hogar."
   ]
  },
  {
   "cell_type": "code",
   "execution_count": 10,
   "metadata": {},
   "outputs": [
    {
     "data": {
      "text/html": [
       "<div>\n",
       "<style scoped>\n",
       "    .dataframe tbody tr th:only-of-type {\n",
       "        vertical-align: middle;\n",
       "    }\n",
       "\n",
       "    .dataframe tbody tr th {\n",
       "        vertical-align: top;\n",
       "    }\n",
       "\n",
       "    .dataframe thead th {\n",
       "        text-align: right;\n",
       "    }\n",
       "</style>\n",
       "<table border=\"1\" class=\"dataframe\">\n",
       "  <thead>\n",
       "    <tr style=\"text-align: right;\">\n",
       "      <th></th>\n",
       "      <th>CODUSU</th>\n",
       "      <th>ANO4</th>\n",
       "      <th>TRIMESTRE</th>\n",
       "      <th>NRO_HOGAR</th>\n",
       "      <th>REALIZADA</th>\n",
       "      <th>REGION</th>\n",
       "      <th>MAS_500</th>\n",
       "      <th>AGLOMERADO</th>\n",
       "      <th>PONDERA</th>\n",
       "      <th>IV1</th>\n",
       "      <th>...</th>\n",
       "      <th>PDECIFR_y</th>\n",
       "      <th>ADECIFR_y</th>\n",
       "      <th>IPCF_y</th>\n",
       "      <th>DECCFR_y</th>\n",
       "      <th>IDECCFR_y</th>\n",
       "      <th>RDECCFR_y</th>\n",
       "      <th>GDECCFR_y</th>\n",
       "      <th>PDECCFR_y</th>\n",
       "      <th>ADECCFR_y</th>\n",
       "      <th>PONDIH_y</th>\n",
       "    </tr>\n",
       "  </thead>\n",
       "  <tbody>\n",
       "    <tr>\n",
       "      <th>0</th>\n",
       "      <td>TQRMNORVYHMOTSCDEIJAH00802517</td>\n",
       "      <td>2023</td>\n",
       "      <td>1</td>\n",
       "      <td>1</td>\n",
       "      <td>1</td>\n",
       "      <td>1</td>\n",
       "      <td>S</td>\n",
       "      <td>33</td>\n",
       "      <td>1066</td>\n",
       "      <td>1</td>\n",
       "      <td>...</td>\n",
       "      <td>NaN</td>\n",
       "      <td>12</td>\n",
       "      <td>0.0</td>\n",
       "      <td>12</td>\n",
       "      <td>NaN</td>\n",
       "      <td>12</td>\n",
       "      <td>12.0</td>\n",
       "      <td>NaN</td>\n",
       "      <td>12</td>\n",
       "      <td>0</td>\n",
       "    </tr>\n",
       "    <tr>\n",
       "      <th>1</th>\n",
       "      <td>TQRMNORVYHMOTSCDEIJAH00802517</td>\n",
       "      <td>2023</td>\n",
       "      <td>1</td>\n",
       "      <td>1</td>\n",
       "      <td>1</td>\n",
       "      <td>1</td>\n",
       "      <td>S</td>\n",
       "      <td>33</td>\n",
       "      <td>1066</td>\n",
       "      <td>1</td>\n",
       "      <td>...</td>\n",
       "      <td>NaN</td>\n",
       "      <td>12</td>\n",
       "      <td>0.0</td>\n",
       "      <td>12</td>\n",
       "      <td>NaN</td>\n",
       "      <td>12</td>\n",
       "      <td>12.0</td>\n",
       "      <td>NaN</td>\n",
       "      <td>12</td>\n",
       "      <td>0</td>\n",
       "    </tr>\n",
       "    <tr>\n",
       "      <th>2</th>\n",
       "      <td>TQRMNOSQRHLLTTCDEIJAH00719390</td>\n",
       "      <td>2023</td>\n",
       "      <td>1</td>\n",
       "      <td>1</td>\n",
       "      <td>1</td>\n",
       "      <td>1</td>\n",
       "      <td>S</td>\n",
       "      <td>33</td>\n",
       "      <td>2270</td>\n",
       "      <td>2</td>\n",
       "      <td>...</td>\n",
       "      <td>NaN</td>\n",
       "      <td>5</td>\n",
       "      <td>79000.0</td>\n",
       "      <td>6</td>\n",
       "      <td>NaN</td>\n",
       "      <td>6</td>\n",
       "      <td>6.0</td>\n",
       "      <td>NaN</td>\n",
       "      <td>7</td>\n",
       "      <td>4733</td>\n",
       "    </tr>\n",
       "    <tr>\n",
       "      <th>3</th>\n",
       "      <td>TQRMNOSQRHLLTTCDEIJAH00719390</td>\n",
       "      <td>2023</td>\n",
       "      <td>1</td>\n",
       "      <td>1</td>\n",
       "      <td>1</td>\n",
       "      <td>1</td>\n",
       "      <td>S</td>\n",
       "      <td>33</td>\n",
       "      <td>2270</td>\n",
       "      <td>2</td>\n",
       "      <td>...</td>\n",
       "      <td>NaN</td>\n",
       "      <td>5</td>\n",
       "      <td>79000.0</td>\n",
       "      <td>6</td>\n",
       "      <td>NaN</td>\n",
       "      <td>6</td>\n",
       "      <td>6.0</td>\n",
       "      <td>NaN</td>\n",
       "      <td>7</td>\n",
       "      <td>4733</td>\n",
       "    </tr>\n",
       "    <tr>\n",
       "      <th>4</th>\n",
       "      <td>TQSMNOSQRHLLTTCDEIJAH00719389</td>\n",
       "      <td>2023</td>\n",
       "      <td>1</td>\n",
       "      <td>1</td>\n",
       "      <td>1</td>\n",
       "      <td>1</td>\n",
       "      <td>S</td>\n",
       "      <td>33</td>\n",
       "      <td>2161</td>\n",
       "      <td>1</td>\n",
       "      <td>...</td>\n",
       "      <td>NaN</td>\n",
       "      <td>3</td>\n",
       "      <td>96000.0</td>\n",
       "      <td>7</td>\n",
       "      <td>NaN</td>\n",
       "      <td>7</td>\n",
       "      <td>7.0</td>\n",
       "      <td>NaN</td>\n",
       "      <td>8</td>\n",
       "      <td>2672</td>\n",
       "    </tr>\n",
       "    <tr>\n",
       "      <th>...</th>\n",
       "      <td>...</td>\n",
       "      <td>...</td>\n",
       "      <td>...</td>\n",
       "      <td>...</td>\n",
       "      <td>...</td>\n",
       "      <td>...</td>\n",
       "      <td>...</td>\n",
       "      <td>...</td>\n",
       "      <td>...</td>\n",
       "      <td>...</td>\n",
       "      <td>...</td>\n",
       "      <td>...</td>\n",
       "      <td>...</td>\n",
       "      <td>...</td>\n",
       "      <td>...</td>\n",
       "      <td>...</td>\n",
       "      <td>...</td>\n",
       "      <td>...</td>\n",
       "      <td>...</td>\n",
       "      <td>...</td>\n",
       "      <td>...</td>\n",
       "    </tr>\n",
       "    <tr>\n",
       "      <th>7614</th>\n",
       "      <td>TQRMNOSSQHKOOMCDEIJAH00802644</td>\n",
       "      <td>2023</td>\n",
       "      <td>1</td>\n",
       "      <td>1</td>\n",
       "      <td>1</td>\n",
       "      <td>1</td>\n",
       "      <td>S</td>\n",
       "      <td>33</td>\n",
       "      <td>3381</td>\n",
       "      <td>1</td>\n",
       "      <td>...</td>\n",
       "      <td>NaN</td>\n",
       "      <td>1</td>\n",
       "      <td>14750.0</td>\n",
       "      <td>1</td>\n",
       "      <td>NaN</td>\n",
       "      <td>1</td>\n",
       "      <td>1.0</td>\n",
       "      <td>NaN</td>\n",
       "      <td>1</td>\n",
       "      <td>4548</td>\n",
       "    </tr>\n",
       "    <tr>\n",
       "      <th>7615</th>\n",
       "      <td>TQRMNOSSQHKOOMCDEIJAH00802644</td>\n",
       "      <td>2023</td>\n",
       "      <td>1</td>\n",
       "      <td>1</td>\n",
       "      <td>1</td>\n",
       "      <td>1</td>\n",
       "      <td>S</td>\n",
       "      <td>33</td>\n",
       "      <td>3381</td>\n",
       "      <td>1</td>\n",
       "      <td>...</td>\n",
       "      <td>NaN</td>\n",
       "      <td>1</td>\n",
       "      <td>14750.0</td>\n",
       "      <td>1</td>\n",
       "      <td>NaN</td>\n",
       "      <td>1</td>\n",
       "      <td>1.0</td>\n",
       "      <td>NaN</td>\n",
       "      <td>1</td>\n",
       "      <td>4548</td>\n",
       "    </tr>\n",
       "    <tr>\n",
       "      <th>7616</th>\n",
       "      <td>TQRMNOSSQHKOOMCDEIJAH00802644</td>\n",
       "      <td>2023</td>\n",
       "      <td>1</td>\n",
       "      <td>1</td>\n",
       "      <td>1</td>\n",
       "      <td>1</td>\n",
       "      <td>S</td>\n",
       "      <td>33</td>\n",
       "      <td>3381</td>\n",
       "      <td>1</td>\n",
       "      <td>...</td>\n",
       "      <td>NaN</td>\n",
       "      <td>1</td>\n",
       "      <td>14750.0</td>\n",
       "      <td>1</td>\n",
       "      <td>NaN</td>\n",
       "      <td>1</td>\n",
       "      <td>1.0</td>\n",
       "      <td>NaN</td>\n",
       "      <td>1</td>\n",
       "      <td>4548</td>\n",
       "    </tr>\n",
       "    <tr>\n",
       "      <th>7617</th>\n",
       "      <td>TQRMNORYPHJKNPCDEIJAH00794297</td>\n",
       "      <td>2023</td>\n",
       "      <td>1</td>\n",
       "      <td>1</td>\n",
       "      <td>1</td>\n",
       "      <td>1</td>\n",
       "      <td>S</td>\n",
       "      <td>33</td>\n",
       "      <td>521</td>\n",
       "      <td>1</td>\n",
       "      <td>...</td>\n",
       "      <td>NaN</td>\n",
       "      <td>1</td>\n",
       "      <td>32000.0</td>\n",
       "      <td>2</td>\n",
       "      <td>NaN</td>\n",
       "      <td>2</td>\n",
       "      <td>2.0</td>\n",
       "      <td>NaN</td>\n",
       "      <td>2</td>\n",
       "      <td>896</td>\n",
       "    </tr>\n",
       "    <tr>\n",
       "      <th>7618</th>\n",
       "      <td>TQRMNORYPHJKNPCDEIJAH00794297</td>\n",
       "      <td>2023</td>\n",
       "      <td>1</td>\n",
       "      <td>1</td>\n",
       "      <td>1</td>\n",
       "      <td>1</td>\n",
       "      <td>S</td>\n",
       "      <td>33</td>\n",
       "      <td>521</td>\n",
       "      <td>1</td>\n",
       "      <td>...</td>\n",
       "      <td>NaN</td>\n",
       "      <td>1</td>\n",
       "      <td>32000.0</td>\n",
       "      <td>2</td>\n",
       "      <td>NaN</td>\n",
       "      <td>2</td>\n",
       "      <td>2.0</td>\n",
       "      <td>NaN</td>\n",
       "      <td>2</td>\n",
       "      <td>896</td>\n",
       "    </tr>\n",
       "  </tbody>\n",
       "</table>\n",
       "<p>7619 rows × 263 columns</p>\n",
       "</div>"
      ],
      "text/plain": [
       "                             CODUSU  ANO4  TRIMESTRE  NRO_HOGAR  REALIZADA  \\\n",
       "0     TQRMNORVYHMOTSCDEIJAH00802517  2023          1          1          1   \n",
       "1     TQRMNORVYHMOTSCDEIJAH00802517  2023          1          1          1   \n",
       "2     TQRMNOSQRHLLTTCDEIJAH00719390  2023          1          1          1   \n",
       "3     TQRMNOSQRHLLTTCDEIJAH00719390  2023          1          1          1   \n",
       "4     TQSMNOSQRHLLTTCDEIJAH00719389  2023          1          1          1   \n",
       "...                             ...   ...        ...        ...        ...   \n",
       "7614  TQRMNOSSQHKOOMCDEIJAH00802644  2023          1          1          1   \n",
       "7615  TQRMNOSSQHKOOMCDEIJAH00802644  2023          1          1          1   \n",
       "7616  TQRMNOSSQHKOOMCDEIJAH00802644  2023          1          1          1   \n",
       "7617  TQRMNORYPHJKNPCDEIJAH00794297  2023          1          1          1   \n",
       "7618  TQRMNORYPHJKNPCDEIJAH00794297  2023          1          1          1   \n",
       "\n",
       "      REGION MAS_500  AGLOMERADO  PONDERA  IV1  ... PDECIFR_y  ADECIFR_y  \\\n",
       "0          1       S          33     1066    1  ...       NaN         12   \n",
       "1          1       S          33     1066    1  ...       NaN         12   \n",
       "2          1       S          33     2270    2  ...       NaN          5   \n",
       "3          1       S          33     2270    2  ...       NaN          5   \n",
       "4          1       S          33     2161    1  ...       NaN          3   \n",
       "...      ...     ...         ...      ...  ...  ...       ...        ...   \n",
       "7614       1       S          33     3381    1  ...       NaN          1   \n",
       "7615       1       S          33     3381    1  ...       NaN          1   \n",
       "7616       1       S          33     3381    1  ...       NaN          1   \n",
       "7617       1       S          33      521    1  ...       NaN          1   \n",
       "7618       1       S          33      521    1  ...       NaN          1   \n",
       "\n",
       "       IPCF_y DECCFR_y  IDECCFR_y  RDECCFR_y  GDECCFR_y  PDECCFR_y ADECCFR_y  \\\n",
       "0         0.0       12        NaN         12       12.0        NaN        12   \n",
       "1         0.0       12        NaN         12       12.0        NaN        12   \n",
       "2     79000.0        6        NaN          6        6.0        NaN         7   \n",
       "3     79000.0        6        NaN          6        6.0        NaN         7   \n",
       "4     96000.0        7        NaN          7        7.0        NaN         8   \n",
       "...       ...      ...        ...        ...        ...        ...       ...   \n",
       "7614  14750.0        1        NaN          1        1.0        NaN         1   \n",
       "7615  14750.0        1        NaN          1        1.0        NaN         1   \n",
       "7616  14750.0        1        NaN          1        1.0        NaN         1   \n",
       "7617  32000.0        2        NaN          2        2.0        NaN         2   \n",
       "7618  32000.0        2        NaN          2        2.0        NaN         2   \n",
       "\n",
       "      PONDIH_y  \n",
       "0            0  \n",
       "1            0  \n",
       "2         4733  \n",
       "3         4733  \n",
       "4         2672  \n",
       "...        ...  \n",
       "7614      4548  \n",
       "7615      4548  \n",
       "7616      4548  \n",
       "7617       896  \n",
       "7618       896  \n",
       "\n",
       "[7619 rows x 263 columns]"
      ]
     },
     "execution_count": 10,
     "metadata": {},
     "output_type": "execute_result"
    }
   ],
   "source": [
    "# Unimos las dos bases de datos, posible gracias a las dos columnas CODUSU y NRO_HOGAR que nos permiten identificar cada hogar.\n",
    "\n",
    "data_indiv = pd.read_excel(\"usu_individual_T123.xlsx\")\n",
    "\n",
    "data_merged = pd.merge(data_gba, data_indiv, on=['CODUSU', 'NRO_HOGAR'], how='left', suffixes=('', '_y'))\n",
    "data_merged"
   ]
  },
  {
   "cell_type": "markdown",
   "metadata": {},
   "source": [
    "#### 4. Generen sus propias funciones para limpiar la base de datos o, si deciden utilizar funciones existentes en paquetes como numpy y pandas, mencionen cúales usarán y de qué paquetes son."
   ]
  },
  {
   "cell_type": "code",
   "execution_count": 11,
   "metadata": {},
   "outputs": [],
   "source": [
    "# Data Cleaning #\n",
    "#################\n",
    "\n",
    "# Creamos función que elimina columnas duplicadas\n",
    "\n",
    "def drop_duplicated_columns(df):\n",
    "    columns_to_drop = [col for col in df.columns if col.endswith(\"_y\")] # identifica las columnas duplicadas del merge anterior, que terminan en \"_y\"\n",
    "    \n",
    "    df_dropped = df.drop(columns=columns_to_drop, axis =1)\n",
    "    \n",
    "    return df_dropped"
   ]
  },
  {
   "cell_type": "code",
   "execution_count": 12,
   "metadata": {},
   "outputs": [],
   "source": [
    "df_cleaned_col = drop_duplicated_columns(data_merged)"
   ]
  },
  {
   "cell_type": "code",
   "execution_count": 13,
   "metadata": {},
   "outputs": [
    {
     "name": "stdout",
     "output_type": "stream",
     "text": [
      "Columns with NaN values: ['IV1_ESP', 'IV3_ESP', 'IV7_ESP', 'II7_ESP', 'II8_ESP', 'IDECIFR', 'PDECIFR', 'IDECCFR', 'PDECCFR', 'CH08', 'CH14', 'CH15_COD', 'CH16_COD', 'IMPUTA', 'PP03C', 'PP03D', 'PP3E_TOT', 'PP3F_TOT', 'PP03G', 'PP03H', 'PP03I', 'PP03J', 'INTENSI', 'PP04A', 'PP04B_COD', 'PP04B1', 'PP04B2', 'PP04B3_MES', 'PP04B3_ANO', 'PP04B3_DIA', 'PP04C', 'PP04C99', 'PP04D_COD', 'PP04G', 'PP05B2_MES', 'PP05B2_ANO', 'PP05B2_DIA', 'PP05C_1', 'PP05C_2', 'PP05C_3', 'PP05E', 'PP05F', 'PP05H', 'PP06A', 'PP06C', 'PP06D', 'PP06E', 'PP06H', 'PP07A', 'PP07C', 'PP07D', 'PP07E', 'PP07F1', 'PP07F2', 'PP07F3', 'PP07F4', 'PP07F5', 'PP07G1', 'PP07G2', 'PP07G3', 'PP07G4', 'PP07G_59', 'PP07H', 'PP07I', 'PP07J', 'PP07K', 'PP08D1', 'PP08D4', 'PP08F1', 'PP08F2', 'PP08J1', 'PP08J2', 'PP08J3', 'PP09A', 'PP09A_ESP', 'PP09B', 'PP09C', 'PP09C_ESP', 'PP10A', 'PP10C', 'PP10D', 'PP10E', 'PP11A', 'PP11B_COD', 'PP11B1', 'PP11B2_MES', 'PP11B2_ANO', 'PP11B2_DIA', 'PP11C', 'PP11C99', 'PP11D_COD', 'PP11G_ANO', 'PP11G_MES', 'PP11G_DIA', 'PP11L', 'PP11L1', 'PP11M', 'PP11N', 'PP11O', 'PP11P', 'PP11Q', 'PP11R', 'PP11S', 'PP11T', 'IDECOCUR', 'PDECOCUR', 'P47T', 'IDECINDR', 'PDECINDR']\n",
      "['CODUSU', 'ANO4', 'TRIMESTRE', 'NRO_HOGAR', 'REALIZADA', 'REGION', 'MAS_500', 'AGLOMERADO', 'PONDERA', 'IV1', 'IV1_ESP', 'IV2', 'IV3', 'IV3_ESP', 'IV4', 'IV5', 'IV6', 'IV7', 'IV7_ESP', 'IV8', 'IV9', 'IV10', 'IV11', 'IV12_1', 'IV12_2', 'IV12_3', 'II1', 'II2', 'II3', 'II3_1', 'II4_1', 'II4_2', 'II4_3', 'II5', 'II5_1', 'II6', 'II6_1', 'II7', 'II7_ESP', 'II8', 'II8_ESP', 'II9', 'V1', 'V2', 'V21', 'V22', 'V3', 'V4', 'V5', 'V6', 'V7', 'V8', 'V9', 'V10', 'V11', 'V12', 'V13', 'V14', 'V15', 'V16', 'V17', 'V18', 'V19_A', 'V19_B', 'IX_TOT', 'IX_MEN10', 'IX_MAYEQ10', 'ITF', 'DECIFR', 'IDECIFR', 'RDECIFR', 'GDECIFR', 'PDECIFR', 'ADECIFR', 'IPCF', 'DECCFR', 'IDECCFR', 'RDECCFR', 'GDECCFR', 'PDECCFR', 'ADECCFR', 'PONDIH', 'VII1_1', 'VII1_2', 'VII2_1', 'VII2_2', 'VII2_3', 'VII2_4', 'COMPONENTE', 'H15', 'CH03', 'CH04', 'CH05', 'CH06', 'CH07', 'CH08', 'CH09', 'CH10', 'CH11', 'CH12', 'CH13', 'CH14', 'CH15', 'CH15_COD', 'CH16', 'CH16_COD', 'NIVEL_ED', 'ESTADO', 'CAT_OCUP', 'CAT_INAC', 'IMPUTA', 'PP02C1', 'PP02C2', 'PP02C3', 'PP02C4', 'PP02C5', 'PP02C6', 'PP02C7', 'PP02C8', 'PP02E', 'PP02H', 'PP02I', 'PP03C', 'PP03D', 'PP3E_TOT', 'PP3F_TOT', 'PP03G', 'PP03H', 'PP03I', 'PP03J', 'INTENSI', 'PP04A', 'PP04B_COD', 'PP04B1', 'PP04B2', 'PP04B3_MES', 'PP04B3_ANO', 'PP04B3_DIA', 'PP04C', 'PP04C99', 'PP04D_COD', 'PP04G', 'PP05B2_MES', 'PP05B2_ANO', 'PP05B2_DIA', 'PP05C_1', 'PP05C_2', 'PP05C_3', 'PP05E', 'PP05F', 'PP05H', 'PP06A', 'PP06C', 'PP06D', 'PP06E', 'PP06H', 'PP07A', 'PP07C', 'PP07D', 'PP07E', 'PP07F1', 'PP07F2', 'PP07F3', 'PP07F4', 'PP07F5', 'PP07G1', 'PP07G2', 'PP07G3', 'PP07G4', 'PP07G_59', 'PP07H', 'PP07I', 'PP07J', 'PP07K', 'PP08D1', 'PP08D4', 'PP08F1', 'PP08F2', 'PP08J1', 'PP08J2', 'PP08J3', 'PP09A', 'PP09A_ESP', 'PP09B', 'PP09C', 'PP09C_ESP', 'PP10A', 'PP10C', 'PP10D', 'PP10E', 'PP11A', 'PP11B_COD', 'PP11B1', 'PP11B2_MES', 'PP11B2_ANO', 'PP11B2_DIA', 'PP11C', 'PP11C99', 'PP11D_COD', 'PP11G_ANO', 'PP11G_MES', 'PP11G_DIA', 'PP11L', 'PP11L1', 'PP11M', 'PP11N', 'PP11O', 'PP11P', 'PP11Q', 'PP11R', 'PP11S', 'PP11T', 'P21', 'DECOCUR', 'IDECOCUR', 'RDECOCUR', 'GDECOCUR', 'PDECOCUR', 'ADECOCUR', 'PONDIIO', 'TOT_P12', 'P47T', 'DECINDR', 'IDECINDR', 'RDECINDR', 'GDECINDR', 'PDECINDR', 'ADECINDR', 'PONDII', 'V2_M', 'V3_M', 'V4_M', 'V5_M', 'V8_M', 'V9_M', 'V10_M', 'V11_M', 'V12_M', 'V18_M', 'V19_AM', 'V21_M', 'T_VI']\n"
     ]
    }
   ],
   "source": [
    "# Buscamos los Nans.\n",
    "\n",
    "def find_columns_with_nan(df):\n",
    "    nan_columns = df.columns[df.isna().any()].tolist()\n",
    "    return nan_columns\n",
    "\n",
    "# Find columns with NaN values\n",
    "columns_with_nan = find_columns_with_nan(df_cleaned_col)\n",
    "print(\"Columns with NaN values:\", columns_with_nan)\n",
    "\n",
    "column_names = df_cleaned_col.columns.to_list()\n",
    "print(column_names)\n",
    "\n",
    "# Podemos ver que hay muchísimas columnas con NaNs, por lo que no es recomendable droppear las columnas directamente. \n",
    "# Optamos por eliminar columnas con una cantidad de NaN superior a 75% de \n"
   ]
  },
  {
   "cell_type": "code",
   "execution_count": 15,
   "metadata": {},
   "outputs": [
    {
     "name": "stdout",
     "output_type": "stream",
     "text": [
      "          Column Name  Number of NaNs  % of NaNs\n",
      "CODUSU         CODUSU               0        0.0\n",
      "ANO4             ANO4               0        0.0\n",
      "TRIMESTRE   TRIMESTRE               0        0.0\n",
      "NRO_HOGAR   NRO_HOGAR               0        0.0\n",
      "REALIZADA   REALIZADA               0        0.0\n",
      "...               ...             ...        ...\n",
      "V12_M           V12_M               0        0.0\n",
      "V18_M           V18_M               0        0.0\n",
      "V19_AM         V19_AM               0        0.0\n",
      "V21_M           V21_M               0        0.0\n",
      "T_VI             T_VI               0        0.0\n",
      "\n",
      "[242 rows x 3 columns]\n"
     ]
    },
    {
     "data": {
      "text/html": [
       "<div>\n",
       "<style scoped>\n",
       "    .dataframe tbody tr th:only-of-type {\n",
       "        vertical-align: middle;\n",
       "    }\n",
       "\n",
       "    .dataframe tbody tr th {\n",
       "        vertical-align: top;\n",
       "    }\n",
       "\n",
       "    .dataframe thead th {\n",
       "        text-align: right;\n",
       "    }\n",
       "</style>\n",
       "<table border=\"1\" class=\"dataframe\">\n",
       "  <thead>\n",
       "    <tr style=\"text-align: right;\">\n",
       "      <th></th>\n",
       "      <th>Column Name</th>\n",
       "      <th>Number of NaNs</th>\n",
       "      <th>% of NaNs</th>\n",
       "    </tr>\n",
       "  </thead>\n",
       "  <tbody>\n",
       "    <tr>\n",
       "      <th>CODUSU</th>\n",
       "      <td>CODUSU</td>\n",
       "      <td>0</td>\n",
       "      <td>0.0</td>\n",
       "    </tr>\n",
       "    <tr>\n",
       "      <th>ANO4</th>\n",
       "      <td>ANO4</td>\n",
       "      <td>0</td>\n",
       "      <td>0.0</td>\n",
       "    </tr>\n",
       "    <tr>\n",
       "      <th>TRIMESTRE</th>\n",
       "      <td>TRIMESTRE</td>\n",
       "      <td>0</td>\n",
       "      <td>0.0</td>\n",
       "    </tr>\n",
       "    <tr>\n",
       "      <th>NRO_HOGAR</th>\n",
       "      <td>NRO_HOGAR</td>\n",
       "      <td>0</td>\n",
       "      <td>0.0</td>\n",
       "    </tr>\n",
       "    <tr>\n",
       "      <th>REALIZADA</th>\n",
       "      <td>REALIZADA</td>\n",
       "      <td>0</td>\n",
       "      <td>0.0</td>\n",
       "    </tr>\n",
       "    <tr>\n",
       "      <th>...</th>\n",
       "      <td>...</td>\n",
       "      <td>...</td>\n",
       "      <td>...</td>\n",
       "    </tr>\n",
       "    <tr>\n",
       "      <th>V12_M</th>\n",
       "      <td>V12_M</td>\n",
       "      <td>0</td>\n",
       "      <td>0.0</td>\n",
       "    </tr>\n",
       "    <tr>\n",
       "      <th>V18_M</th>\n",
       "      <td>V18_M</td>\n",
       "      <td>0</td>\n",
       "      <td>0.0</td>\n",
       "    </tr>\n",
       "    <tr>\n",
       "      <th>V19_AM</th>\n",
       "      <td>V19_AM</td>\n",
       "      <td>0</td>\n",
       "      <td>0.0</td>\n",
       "    </tr>\n",
       "    <tr>\n",
       "      <th>V21_M</th>\n",
       "      <td>V21_M</td>\n",
       "      <td>0</td>\n",
       "      <td>0.0</td>\n",
       "    </tr>\n",
       "    <tr>\n",
       "      <th>T_VI</th>\n",
       "      <td>T_VI</td>\n",
       "      <td>0</td>\n",
       "      <td>0.0</td>\n",
       "    </tr>\n",
       "  </tbody>\n",
       "</table>\n",
       "<p>242 rows × 3 columns</p>\n",
       "</div>"
      ],
      "text/plain": [
       "          Column Name  Number of NaNs  % of NaNs\n",
       "CODUSU         CODUSU               0        0.0\n",
       "ANO4             ANO4               0        0.0\n",
       "TRIMESTRE   TRIMESTRE               0        0.0\n",
       "NRO_HOGAR   NRO_HOGAR               0        0.0\n",
       "REALIZADA   REALIZADA               0        0.0\n",
       "...               ...             ...        ...\n",
       "V12_M           V12_M               0        0.0\n",
       "V18_M           V18_M               0        0.0\n",
       "V19_AM         V19_AM               0        0.0\n",
       "V21_M           V21_M               0        0.0\n",
       "T_VI             T_VI               0        0.0\n",
       "\n",
       "[242 rows x 3 columns]"
      ]
     },
     "execution_count": 15,
     "metadata": {},
     "output_type": "execute_result"
    }
   ],
   "source": [
    "# Creamos una función para cuantificar los NaNs.\n",
    "\n",
    "def count_and_percentage_of_nans(df):\n",
    "    nan_info = pd.DataFrame({\n",
    "        'Column Name': df.columns,\n",
    "        'Number of NaNs': df.isna().sum(),\n",
    "        '% of NaNs': (df.isna().sum() / len(df) * 100)\n",
    "    })\n",
    "\n",
    "    return nan_info\n",
    "\n",
    "nan_info = count_and_percentage_of_nans(df_cleaned_col)\n",
    "\n",
    "nan_info # Lamentablemente este método no nos permite visualizar la información relevante de los NaNs."
   ]
  },
  {
   "cell_type": "code",
   "execution_count": 16,
   "metadata": {},
   "outputs": [
    {
     "data": {
      "image/png": "[encoded data removed]",
      "text/plain": [
       "<Figure size 1000x600 with 1 Axes>"
      ]
     },
     "metadata": {},
     "output_type": "display_data"
    }
   ],
   "source": [
    "# Realizamos entonces un análisis gráfico de las columnas con NaNs: miramos sus % de Nans respecto a las observaciones totales.\n",
    "\n",
    "plt.figure(figsize=(10, 6))\n",
    "plt.barh(nan_info['Column Name'], nan_info['% of NaNs'], color='skyblue')\n",
    "plt.xlabel('% of NaNs')\n",
    "plt.title('Percentage of NaNs in Columns')\n",
    "plt.gca().invert_yaxis()\n",
    "plt.show()\n",
    "\n",
    "# Como podemos ver, hay una importante proporción de NaNs en cada columna."
   ]
  },
  {
   "cell_type": "code",
   "execution_count": 27,
   "metadata": {},
   "outputs": [
    {
     "name": "stdout",
     "output_type": "stream",
     "text": [
      " En el decil 10 tenemos un 0.0% de NaNs.\n",
      " En el decil 20 tenemos un 0.0% de NaNs.\n",
      " En el decil 30 tenemos un 0.0% de NaNs.\n",
      " En el decil 40 tenemos un 0.0% de NaNs.\n",
      " En el decil 50 tenemos un 0.0% de NaNs.\n",
      " En el decil 60 tenemos un 53.76033600210002% de NaNs.\n",
      " En el decil 70 tenemos un 53.76033600210002% de NaNs.\n",
      " En el decil 80 tenemos un 53.76033600210002% de NaNs.\n",
      " En el decil 90 tenemos un 96.24622653891586% de NaNs.\n"
     ]
    }
   ],
   "source": [
    "#Ahora, procedemos a cuantificar estos Nans, para poder determinar que estrategia seguir.\n",
    "\n",
    "# Calculamos los deciles de los NaNs como porcentajes.\n",
    "\n",
    "deciles = [10, 20, 30, 40, 50, 60, 70, 80, 90]\n",
    "percentiles = np.percentile(nan_info['% of NaNs'], deciles)\n",
    "\n",
    "# Los mostramos, usando el operador zip que itera y matchea los percentiles calculados con los deciles especificados.\n",
    "for decile, percentile_value in zip(deciles, percentiles):\n",
    "    print(f\" En el decil {decile} tenemos un {percentile_value}% de NaNs.\")\n",
    "    \n",
    "# Podemos ver que la mayoría 50% - 60% de las columnas tienen un 53% de NaNs. \n",
    "\n",
    "# Decidimos entonces descartar las columnas que tengan más de 54% de NaNs."
   ]
  },
  {
   "cell_type": "code",
   "execution_count": 28,
   "metadata": {},
   "outputs": [],
   "source": [
    "limite = 54 \n",
    "\n",
    "# Calculamos los Nans de cada columna\n",
    "nan_percentages = df_cleaned_col.isna().mean() * 100\n",
    "\n",
    "# Identificamos las columnas con sobrepasan nuestro limite de NaNs\n",
    "columns_to_drop = nan_percentages[nan_percentages > limite].index\n",
    "\n",
    "# Dropeamos las columnas identificadas.\n",
    "\n",
    "df_cleaned_col = df_cleaned_col.drop(columns=columns_to_drop)\n",
    "\n",
    "# De esta forma, conservamos la mayor cantidad de datos posibles."
   ]
  },
  {
   "cell_type": "code",
   "execution_count": null,
   "metadata": {},
   "outputs": [],
   "source": [
    "# Arreglando los NaNs restantes.\n",
    "\n"
   ]
  },
  {
   "cell_type": "markdown",
   "metadata": {},
   "source": [
    "#### 5. Limpien la base de datos tomando criterios que hagan sentido, tanto para el tratamiento de valores faltantes, de outliers, como así también decidan qué variables categóricas y strings usarán y transfórmenlas de forma que haga sentido para los ejercicios siguientes. Justifiquen sus decisiones."
   ]
  },
  {
   "cell_type": "code",
   "execution_count": null,
   "metadata": {},
   "outputs": [],
   "source": []
  },
  {
   "cell_type": "markdown",
   "metadata": {},
   "source": [
    "#### 6. Presenten estadísticas descriptivas de cinco variables de la encuesta de hogar que ustedes creen que pueden ser relevantes para predecir pobreza."
   ]
  },
  {
   "cell_type": "code",
   "execution_count": null,
   "metadata": {},
   "outputs": [],
   "source": []
  },
  {
   "cell_type": "markdown",
   "metadata": {},
   "source": [
    "#### 7. Repitan el inciso 1.2.f del TP2 para construir la columna <i>adulto_equiv</i> y la columna <i>ad_equiv_hogar</i> (pueden utilizar su código del TP2)."
   ]
  },
  {
   "cell_type": "code",
   "execution_count": null,
   "metadata": {},
   "outputs": [],
   "source": []
  },
  {
   "cell_type": "markdown",
   "metadata": {},
   "source": [
    "#### 8. Repitan el inciso 1.3 y 1.4 del TP2 para dividir la base en dos dataframes donde: uno conserve las personas que no reportaron ITF (dataframe llamado <i> respondieron </i>) y otro conserve a las personas que no reportaron ITF (llamado <i> norespondieron </i>). Además, agreguen a la base respondieron una columna llamada <i>ingreso_necesario</i> que sea el producto de la canasta básica por <i>ad_equiv_hogar</i>."
   ]
  },
  {
   "cell_type": "code",
   "execution_count": null,
   "metadata": {},
   "outputs": [],
   "source": []
  },
  {
   "cell_type": "markdown",
   "metadata": {},
   "source": [
    "#### 9. Agreguen a la base respondieron una columna llamada pobre, que tome valor1 si el ITF es menor al ingreso necesario que necesita esa familia y 0 en caso contrario."
   ]
  },
  {
   "cell_type": "code",
   "execution_count": null,
   "metadata": {},
   "outputs": [],
   "source": []
  },
  {
   "cell_type": "markdown",
   "metadata": {},
   "source": [
    "#### 9. En el TP2 calcularon los individuos bajo la línea de pobreza. Sin embargo, cuando se habla de pobreza el número más utilizado es el de la tasa de hogares bajo la línea de pobreza. Para calcularlo, utilicen una sola observación por hogar y sumen el ponderador PONDIH que permite expandir la muestra de la EPH al total de la población que representa. ¿Cuál es la tasa de hogares bajo la línea de pobreza para el GBA? ¿Se asemeja al que reporta el  <a href=\"https://www.indec.gob.ar/uploads/informesdeprensa/eph_pobreza_09_2326FC0901C2.pdf\">INDEC en sus informes</a>?\n",
    "\n"
   ]
  },
  {
   "cell_type": "code",
   "execution_count": null,
   "metadata": {},
   "outputs": [],
   "source": []
  },
  {
   "cell_type": "markdown",
   "metadata": {},
   "source": [
    "## Parte II: Construcción de funciones"
   ]
  },
  {
   "cell_type": "markdown",
   "metadata": {},
   "source": [
    "El objetivo de esta parte del trabajo es generar código que sea flexible y que esté modularizado (en funciones bien documentadas con docstrings). De esta forma, evitarán repetir código y podrán utilizarlo en distintos escenarios (como por ejemplo la Parte III de este TP y sus proyectos personales a futuro)."
   ]
  },
  {
   "cell_type": "markdown",
   "metadata": {},
   "source": [
    "#### 1. Escriban una función, llamada evalua metodo, que reciba como argumentos un modelo y los datos de entrenamiento y prueba (<i>X train </i>, <i> y train </i> , <i>X test</i>, <i>y test</i>). La funcioón debe ajustar el modelo con los datos de entrenamiento y calcular las métricas que considere necesarias para esta problemática (de mínima, deben reportar la matriz de confusión, las curvas ROC y los valores de AUC y de accuracy score de cada método). El output de la función debe ser una colección con las métricas evaluadas."
   ]
  },
  {
   "cell_type": "code",
   "execution_count": null,
   "metadata": {},
   "outputs": [],
   "source": []
  },
  {
   "cell_type": "markdown",
   "metadata": {},
   "source": [
    "#### 2. Escriban una función, llamada <i>cross_validation</i>, que realice validación cruzada con <i>k</i> iteraciones (<i>k</i>-fold CV), llamando a la función del inciso anterior en cada una, pero para las <i>k</i> distintas particiones. La función debe recibir como argumentos el modelo, el valor de <i>k</i> y un dataset (es decir, sólo X e y). Pueden ayudarse con la función  <a href=\"https://scikit-learn.org/stable/modules/generated/sklearn.model_selection.KFold.html\">Kfold</a> para generar las particiones necesarias."
   ]
  },
  {
   "cell_type": "code",
   "execution_count": null,
   "metadata": {},
   "outputs": [],
   "source": []
  },
  {
   "cell_type": "markdown",
   "metadata": {},
   "source": [
    "#### 3. Escriban una función, llamada <i>evalua_config</i> que reciba una lista de configuraciones de hiperparámetros (1) (los distintos valores a probar como hiperparámetros podrian codificarse en diccionarios de Python) y utilizando la función <i>cross_validation</i> obtenga el error (2) promedio para cada configuración. Finalmente, la función debe devolver la configuración que genere menor error (3).\n",
    "\n",
    "Notas: \n",
    "\n",
    "(1) En <i>scikit-learn</i>, muchos métodos llaman penalty al método de regularización y <i>C</i> a la inversa del hiperparámetro <i>λ</i>.\n",
    "\n",
    "(2) Utilicen la medición del error que prefieran. Una opción sería el Error Cuadrático Medio\n",
    "\n",
    "(3) Consejo: cuanto más genérica construyan la función, luego podrá ser utilizada en más situaciones. Por ahora, la usaremos solo para buscar el <i>λ</i> óptimo cuando utilicemos regularización."
   ]
  },
  {
   "cell_type": "code",
   "execution_count": null,
   "metadata": {},
   "outputs": [],
   "source": []
  },
  {
   "cell_type": "markdown",
   "metadata": {},
   "source": [
    "#### 4. Escriban una función llamada <i>evalua_multiples_metodos</i> que les permita implementar los siguiente métodos con los hiperparámetros que ustedes elijan. Para la regresión logística, asegúrense de que esta función utilice su función <i>evalua_config</i> para optimizar el <i>λ</i> de la regularización. Finalmente, el output de la función debe ser una tabla donde las columnas sean las métricas que hayan evaluado (las que hayan incluido en la función evalua metodo) y las filas sean los modelos (con su configuración de hiperparámetros asociada) que hayan corrido. Asegúrense de que la tabla incluya una columna con nombre del modelo y el valor de los hiperparámetros/configuración: (4)\n",
    "\n",
    "- Regresión logística\n",
    "- Análisis de discriminante lineal\n",
    "- KNN\n",
    "\n",
    "Notas: \n",
    "\n",
    "(4) Pista: para la regresión logística, cuando incluyan regularización observen que deberán correr la función evalua metodo dos veces. Una para optimizar los hiperparámetros (con un set de datos para train y otro para validación) y otra para obtener las métricas con el hiperparámetro óptimo (con un set de datos para train y otro para test)."
   ]
  },
  {
   "cell_type": "code",
   "execution_count": null,
   "metadata": {},
   "outputs": [],
   "source": []
  },
  {
   "cell_type": "markdown",
   "metadata": {},
   "source": [
    "## Parte III: Clasificación y regularización"
   ]
  },
  {
   "cell_type": "markdown",
   "metadata": {},
   "source": [
    "El objetivo de esta parte del trabajo es nuevamente intentar predecir si una persona es o no pobre utilizando datos distintos al ingreso, dado que muchos hogares son reacios a responder cúanto ganan. Esta vez lo haremos con la base unida de las preguntas de la encuesta individual y la encuesta de hogar. A su vez, incluiremos ejercicios de regularización y de validación cruzada."
   ]
  },
  {
   "cell_type": "markdown",
   "metadata": {},
   "source": [
    "#### 1. Eliminen de ambas bases (<i>respondieron</i>, <i>norespondieron</i>) todas las variables relacionadas a ingresos (en el archivo <a href = \"https://www.indec.gob.ar/ftp/cuadros/menusuperior/eph/EPH_registro_1T2023.pdf\" > Diseño de bases y estructura </a> ver las categorías: ingresos de la ocupación principal de los asalariados, ingresos de la ocupación principal, ingresos de otras ocupaciones, ingreso total individual, ingresos no laborales, ingreso total familiar, ingreso per cápita familiar). Eliminen también las columnas <i>adulto_equiv</i>, <i>ad_equiv_hogar</i> e <i>ingreso_necesario</i>. Establezcan a la variable pobre como su variable dependiente (vector y). El resto de las variables serán las variables independientes (matriz X). Dependiendo de la funcióon que usen, no se olviden de agregar la columna de 1 cuando sea necesario."
   ]
  },
  {
   "cell_type": "code",
   "execution_count": null,
   "metadata": {},
   "outputs": [],
   "source": []
  },
  {
   "cell_type": "markdown",
   "metadata": {},
   "source": [
    "#### 2. Corran la función evalua múltiples metodos con la base respondieron. En los próximos incisos profundizaremos en la tarea de regularización, pero en este ejercicio prueben al menos un hiperparámetro para regularizar y al menos un valor de <i>λ</i>."
   ]
  },
  {
   "cell_type": "code",
   "execution_count": null,
   "metadata": {},
   "outputs": [],
   "source": []
  },
  {
   "cell_type": "markdown",
   "metadata": {},
   "source": [
    "#### 3. Expliquen cómo elegirían <i>λ</i> por validación cruzada. Detallen por qué no usarían el conjunto de prueba (test) para su elección."
   ]
  },
  {
   "cell_type": "code",
   "execution_count": null,
   "metadata": {},
   "outputs": [],
   "source": []
  },
  {
   "cell_type": "markdown",
   "metadata": {},
   "source": [
    "#### 4. En validación cruzada, ¿cúal es el problema de usar un <i>k</i> muy pequeño y uno muy grande? Cuando <i>k = n</i> (con <i>n</i> el número de muestras), ¿cúantas veces se estima el modelo?"
   ]
  },
  {
   "cell_type": "code",
   "execution_count": null,
   "metadata": {},
   "outputs": [],
   "source": []
  },
  {
   "cell_type": "markdown",
   "metadata": {},
   "source": [
    "#### 5. Realicen un barrido en <i>λ = 10^n </i> con <i>n</i> ∈ {−5,−4,−3 . . . , +4, +5} y utilicen 10 fold CV para elegir el <i>λ</i> óptimo en regresión logística con Ridge y con LASSO. ¿Qué <i>λ</i> seleccionó en cada caso? Generen <a href=\"https://matplotlib.org/3.1.1/api/_as_gen/matplotlib.pyplot.boxplot.html\" > box-plots </a> mostrando la distribución del error de predicción para cada <i>λ</i>. Cada box debe corresponder a un valor de <i>λ</i> y contener como observaciones el error medio de validación para cada partición. Además, para la regularización LASSO, genere un box-plot similar, pero ahora graficando la proporción de variables ignoradas por el modelo en función de <i>λ</i>, es decir la proporción de variables para las cuales el coeficiente asociado es cero."
   ]
  },
  {
   "cell_type": "code",
   "execution_count": null,
   "metadata": {},
   "outputs": [],
   "source": []
  },
  {
   "cell_type": "markdown",
   "metadata": {},
   "source": [
    "#### 6.  En el caso del valor óptimo de <i>λ</i> para LASSO encontrado en el inciso anterior, ¿qué variables fueron descartadas? ¿Son las que hubieran esperado? ¿Tiene relación con lo que respondieron en el inciso 1 de la Parte I?"
   ]
  },
  {
   "cell_type": "code",
   "execution_count": null,
   "metadata": {},
   "outputs": [],
   "source": []
  },
  {
   "cell_type": "markdown",
   "metadata": {},
   "source": [
    "#### 7. Elijan alguno de los modelos de regresión logística donde hayan probado distintos parametros de regularización y comenten: ¿Qué método de regularización funcionó mejor Ridge o LASSO? Comenten mencionando el error cuadrático medio (ECM)."
   ]
  },
  {
   "cell_type": "code",
   "execution_count": null,
   "metadata": {},
   "outputs": [],
   "source": []
  },
  {
   "cell_type": "markdown",
   "metadata": {},
   "source": [
    "#### 8. ¿Cúal de todos los métodos evaluados predice mejor? ¿Con qué hiperparámetros? Justifiquen detalladamente utilizando las medidas de precisión que conocen."
   ]
  },
  {
   "cell_type": "code",
   "execution_count": null,
   "metadata": {},
   "outputs": [],
   "source": []
  },
  {
   "cell_type": "markdown",
   "metadata": {},
   "source": [
    "#### 9. Con el método que seleccionaron, predigan qué personas son pobres dentro de la base <i>norespondieron</i>. ¿Qué proporción de los hogares son pobres en esa submuestra?"
   ]
  },
  {
   "cell_type": "code",
   "execution_count": null,
   "metadata": {},
   "outputs": [],
   "source": []
  },
  {
   "cell_type": "code",
   "execution_count": null,
   "metadata": {},
   "outputs": [],
   "source": []
  }
 ],
 "metadata": {
  "anaconda-cloud": {},
  "colab": {
   "provenance": []
  },
  "kernelspec": {
   "display_name": "Python 3 (ipykernel)",
   "language": "python",
   "name": "python3"
  },
  "language_info": {
   "codemirror_mode": {
    "name": "ipython",
    "version": 3
   },
   "file_extension": ".py",
   "mimetype": "text/x-python",
   "name": "python",
   "nbconvert_exporter": "python",
   "pygments_lexer": "ipython3",
   "version": "3.11.4"
  }
 },
 "nbformat": 4,
 "nbformat_minor": 1
}
